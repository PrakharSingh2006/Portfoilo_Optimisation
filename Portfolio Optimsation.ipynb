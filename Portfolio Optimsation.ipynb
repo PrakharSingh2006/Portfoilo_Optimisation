{
 "cells": [
  {
   "cell_type": "markdown",
   "id": "8f097a7e",
   "metadata": {},
   "source": [
    "# Section 0: Import all Required Library"
   ]
  },
  {
   "cell_type": "code",
   "execution_count": 19,
   "id": "1b85c8ec",
   "metadata": {},
   "outputs": [],
   "source": [
    "import pandas as pd\n",
    "import yfinance as yf\n",
    "from datetime import datetime, timedelta\n",
    "import numpy as np\n",
    "from scipy.optimize import minimize\n"
   ]
  },
  {
   "cell_type": "markdown",
   "id": "33140a65",
   "metadata": {},
   "source": [
    "# Section 1: Define Tickers and Time Range\n",
    "First, define a list of tickers for the assets we want to include in the portfolio"
   ]
  },
  {
   "cell_type": "code",
   "execution_count": 20,
   "id": "6dd32935",
   "metadata": {},
   "outputs": [],
   "source": [
    "tickers = ['^NSEI','^BSESN','GLD','NIFTY_MIDCAP_100.NS']\n",
    "end_date = datetime.today()\n",
    "start_date = end_date - timedelta(days = 1*365)"
   ]
  },
  {
   "cell_type": "markdown",
   "id": "01d1ae60",
   "metadata": {},
   "source": [
    "# Section 2: Download Adjusted Close Prices\n",
    "Next, create an empty DataFrame to store the adjusted close prices of each asset. We use the yfinance library to download the data from Yahoo Finance."
   ]
  },
  {
   "cell_type": "code",
   "execution_count": 21,
   "id": "12a18139",
   "metadata": {},
   "outputs": [
    {
     "name": "stderr",
     "output_type": "stream",
     "text": [
      "[*********************100%***********************]  1 of 1 completed\n",
      "[*********************100%***********************]  1 of 1 completed\n",
      "[*********************100%***********************]  1 of 1 completed\n",
      "[*********************100%***********************]  1 of 1 completed\n"
     ]
    }
   ],
   "source": [
    "adj_close_df = pd.DataFrame()\n",
    "for ticker in tickers:\n",
    "    data = yf.download(ticker, start = start_date,end = end_date)\n",
    "    adj_close_df[ticker] = data['Adj Close']"
   ]
  },
  {
   "cell_type": "code",
   "execution_count": 22,
   "id": "36ac2b58",
   "metadata": {},
   "outputs": [
    {
     "name": "stdout",
     "output_type": "stream",
     "text": [
      "                   ^NSEI        ^BSESN         GLD  NIFTY_MIDCAP_100.NS\n",
      "Date                                                                   \n",
      "2023-10-03  19528.750000  65512.101562  169.160004         40608.851562\n",
      "2023-10-04  19436.099609  65226.039062  169.139999         40047.500000\n",
      "2023-10-05  19545.750000  65631.570312  168.830002         40046.000000\n",
      "2023-10-06  19653.500000  65995.632812  169.699997         40284.699219\n",
      "2023-10-09  19512.349609  65512.390625  172.820007         39744.648438\n",
      "...                  ...           ...         ...                  ...\n",
      "2024-09-23  25939.050781  84928.609375  242.679993         60712.398438\n",
      "2024-09-24  25940.400391  84914.039062  246.070007         60850.800781\n",
      "2024-09-25  26004.150391  85169.867188  245.729996         60465.148438\n",
      "2024-09-26  26216.050781  85836.117188  246.979996         60469.148438\n",
      "2024-09-27  26178.949219  85571.851562  245.020004         60381.148438\n",
      "\n",
      "[243 rows x 4 columns]\n"
     ]
    }
   ],
   "source": [
    "print(adj_close_df)\n"
   ]
  },
  {
   "cell_type": "markdown",
   "id": "c0f567e8",
   "metadata": {},
   "source": [
    "# Section 3: Calculate Covariance Matrix\n",
    "We compute the covariance matrix using the annualized log returns."
   ]
  },
  {
   "cell_type": "code",
   "execution_count": 23,
   "id": "a0656084",
   "metadata": {},
   "outputs": [],
   "source": [
    "log_returns=np.log(adj_close_df/adj_close_df.shift(1))"
   ]
  },
  {
   "cell_type": "code",
   "execution_count": 24,
   "id": "1e0e97f3",
   "metadata": {},
   "outputs": [],
   "source": [
    "log_returns=log_returns.dropna()"
   ]
  },
  {
   "cell_type": "code",
   "execution_count": 25,
   "id": "0902846f",
   "metadata": {},
   "outputs": [
    {
     "name": "stdout",
     "output_type": "stream",
     "text": [
      "                        ^NSEI    ^BSESN       GLD  NIFTY_MIDCAP_100.NS\n",
      "^NSEI                0.019403  0.019260  0.001851             0.021515\n",
      "^BSESN               0.019260  0.019307  0.001817             0.020625\n",
      "GLD                  0.001851  0.001817  0.022104             0.004531\n",
      "NIFTY_MIDCAP_100.NS  0.021515  0.020625  0.004531             0.035559\n"
     ]
    }
   ],
   "source": [
    "cov_matrix=log_returns.cov()*252\n",
    "print(cov_matrix)"
   ]
  },
  {
   "cell_type": "markdown",
   "id": "be52bb16",
   "metadata": {},
   "source": [
    "# Section 5: Define Portfolio Performance Metrics\n",
    "Defined functions to calculate key portfolio performance metrics, including portfolio standard deviation, expected return, and Sharpe ratio, enabling effective risk assessment and return optimization."
   ]
  },
  {
   "cell_type": "code",
   "execution_count": 26,
   "id": "5d1ad69c",
   "metadata": {},
   "outputs": [],
   "source": [
    "def standard_deviation(weights,cov_matrix):\n",
    "    variance=weights.T@cov_matrix@weights\n",
    "    return np.sqrt(variance)"
   ]
  },
  {
   "cell_type": "code",
   "execution_count": 27,
   "id": "42482e6f",
   "metadata": {},
   "outputs": [],
   "source": [
    "def expected_returns(weights,log_returns):\n",
    "    return np.sum(log_returns.mean()*weights)*252"
   ]
  },
  {
   "cell_type": "code",
   "execution_count": 28,
   "id": "c2dfa461",
   "metadata": {},
   "outputs": [],
   "source": [
    "def sharpe_ratio(weights, log_returns, cov_matrix, risk_free_rate):\n",
    "    return (expected_returns(weights, log_returns) - risk_free_rate) / standard_deviation(weights, cov_matrix)"
   ]
  },
  {
   "cell_type": "markdown",
   "id": "65d29f36",
   "metadata": {},
   "source": [
    "# Section 6: Portfolio Optimization\n",
    "Established the risk-free rate and defined a function to minimize the negative Sharpe ratio, while implementing constraints and bounds for the optimization process, facilitating the creation of an efficient portfolio."
   ]
  },
  {
   "cell_type": "code",
   "execution_count": 29,
   "id": "a899c3b2",
   "metadata": {},
   "outputs": [],
   "source": [
    " risk_free_rate=.02\n"
   ]
  },
  {
   "cell_type": "code",
   "execution_count": 30,
   "id": "00c716a2",
   "metadata": {},
   "outputs": [],
   "source": [
    "def neg_sharpe_ratio(weights, log_returns, cov_matrix, risk_free_rate):\n",
    "    return -sharpe_ratio(weights, log_returns, cov_matrix, risk_free_rate)\n"
   ]
  },
  {
   "cell_type": "markdown",
   "id": "6944453c",
   "metadata": {},
   "source": [
    "# Section 7: Analyze the Optimal Portfolio\n",
    "We obtain the optimal weights and calculate the expected annual return, expected volatility, and Sharpe ratio for the optimal portfolio."
   ]
  },
  {
   "cell_type": "code",
   "execution_count": 31,
   "id": "4f3331a2",
   "metadata": {},
   "outputs": [],
   "source": [
    "constraints =[ {'type': 'eq', 'fun': lambda weights: np.sum(weights) - 1}]\n",
    "bounds = [(0, 0.5) for _ in range(len(tickers))]"
   ]
  },
  {
   "cell_type": "code",
   "execution_count": 32,
   "id": "1d9311ee",
   "metadata": {},
   "outputs": [],
   "source": [
    "initial_weights = np.array([1/len(tickers)]*len(tickers))\n",
    "weights=[0.25,0.25,0.25,0.25]\n"
   ]
  },
  {
   "cell_type": "code",
   "execution_count": 33,
   "id": "51a6a8e4",
   "metadata": {},
   "outputs": [],
   "source": [
    "optimized_results = minimize(neg_sharpe_ratio, initial_weights, args=(log_returns, cov_matrix, risk_free_rate), method='SLSQP', constraints=constraints, bounds=bounds)\n",
    "optimal_weights = optimized_results.x"
   ]
  },
  {
   "cell_type": "code",
   "execution_count": 34,
   "id": "bfce8d3b",
   "metadata": {},
   "outputs": [
    {
     "name": "stdout",
     "output_type": "stream",
     "text": [
      "Optimal Weights:\n",
      "^NSEI: 0.3983\n",
      "^BSESN: 0.0000\n",
      "GLD: 0.5000\n",
      "NIFTY_MIDCAP_100.NS: 0.1017\n",
      "Expected Annual Return: 0.3573\n",
      "Expected Volatility: 0.1091\n",
      "Sharpe Ratio: 3.0900\n"
     ]
    }
   ],
   "source": [
    "print(\"Optimal Weights:\")\n",
    "for ticker, weight in zip(tickers, optimal_weights):\n",
    "    print(f\"{ticker}: {weight:.4f}\")\n",
    "\n",
    "optimal_portfolio_return = expected_returns(optimal_weights, log_returns)\n",
    "optimal_portfolio_volatility = standard_deviation(optimal_weights, cov_matrix)\n",
    "optimal_sharpe_ratio = sharpe_ratio(optimal_weights, log_returns, cov_matrix, risk_free_rate)\n",
    "\n",
    "print(f\"Expected Annual Return: {optimal_portfolio_return:.4f}\")\n",
    "print(f\"Expected Volatility: {optimal_portfolio_volatility:.4f}\")\n",
    "print(f\"Sharpe Ratio: {optimal_sharpe_ratio:.4f}\")"
   ]
  },
  {
   "cell_type": "markdown",
   "id": "724f2b2d",
   "metadata": {},
   "source": [
    "# Display the Final Portfolio in a Plot\n",
    "We create a bar chart to visualize the optimal weights of the assets in the portfolio."
   ]
  },
  {
   "cell_type": "code",
   "execution_count": 35,
   "id": "5cf40209",
   "metadata": {},
   "outputs": [
    {
     "data": {
      "image/png": "[encoded data removed]",
      "text/plain": [
       "<Figure size 1000x600 with 1 Axes>"
      ]
     },
     "metadata": {},
     "output_type": "display_data"
    }
   ],
   "source": [
    "import matplotlib.pyplot as plt\n",
    "\n",
    "plt.figure(figsize=(10, 6))\n",
    "plt.bar(tickers, optimal_weights)\n",
    "\n",
    "plt.xlabel('Assets')\n",
    "plt.ylabel('Optimal Weights')\n",
    "plt.title('Optimal Portfolio Weights')\n",
    "\n",
    "plt.show()"
   ]
  },
  {
   "cell_type": "markdown",
   "id": "a1c31f62",
   "metadata": {},
   "source": [
    "# Conclusion \n",
    "This Python script effectively demonstrates the application of Modern Portfolio Theory to optimize a stock portfolio. By calculating the optimal weights for each asset, the script aims to maximize the Sharpe ratio, ensuring the highest possible risk-adjusted return. This approach empowers investors to construct a well-diversified portfolio, facilitating informed decision-making when allocating their investments and enhancing overall financial performance."
   ]
  }
 ],
 "metadata": {
  "kernelspec": {
   "display_name": "Python 3 (ipykernel)",
   "language": "python",
   "name": "python3"
  },
  "language_info": {
   "codemirror_mode": {
    "name": "ipython",
    "version": 3
   },
   "file_extension": ".py",
   "mimetype": "text/x-python",
   "name": "python",
   "nbconvert_exporter": "python",
   "pygments_lexer": "ipython3",
   "version": "3.11.4"
  }
 },
 "nbformat": 4,
 "nbformat_minor": 5
}
